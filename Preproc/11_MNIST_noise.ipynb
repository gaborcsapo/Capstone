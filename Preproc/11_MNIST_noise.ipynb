{
 "cells": [
  {
   "cell_type": "code",
   "execution_count": 82,
   "metadata": {
    "collapsed": true
   },
   "outputs": [],
   "source": [
    "import pandas as pd\n",
    "import numpy as np\n",
    "import scipy.io as sio"
   ]
  },
  {
   "cell_type": "code",
   "execution_count": 84,
   "metadata": {
    "collapsed": true,
    "scrolled": true
   },
   "outputs": [],
   "source": [
    "clean = sio.loadmat('../Images/MNIST_noisy/mnist-matlab-master/mnist.mat')\n",
    "noisy = sio.loadmat('../Images/MNIST_noisy/mnist-matlab-master/mnistRand_20%_ttfixed.mat')"
   ]
  },
  {
   "cell_type": "code",
   "execution_count": 85,
   "metadata": {
    "collapsed": true
   },
   "outputs": [],
   "source": [
    "c_img_test = clean['test'][0][0][3]\n",
    "c_lab_test = clean['test'][0][0][4].reshape(1,10000)[0]\n",
    "\n",
    "c_img_train = clean['training'][0][0][3]\n",
    "c_lab_train = clean['training'][0][0][4].reshape(1,60000)[0]\n",
    "\n",
    "n_img_test = noisy['test'][0][0][3]\n",
    "n_lab_test = noisy['test'][0][0][4].reshape(1,10000)[0]\n",
    "\n",
    "n_img_train = noisy['training'][0][0][3]\n",
    "n_lab_train = noisy['training'][0][0][4].reshape(1,60000)[0]"
   ]
  },
  {
   "cell_type": "markdown",
   "metadata": {},
   "source": [
    "### there should be only an 80% match because of the noise"
   ]
  },
  {
   "cell_type": "code",
   "execution_count": 86,
   "metadata": {},
   "outputs": [
    {
     "name": "stdout",
     "output_type": "stream",
     "text": [
      "7967\n",
      "47957\n"
     ]
    }
   ],
   "source": [
    "print(np.sum(c_lab_test == n_lab_test))\n",
    "print(np.sum(c_lab_train == n_lab_train))"
   ]
  },
  {
   "cell_type": "code",
   "execution_count": 87,
   "metadata": {},
   "outputs": [
    {
     "name": "stdout",
     "output_type": "stream",
     "text": [
      "1.0    1104\n",
      "3.0    1092\n",
      "9.0    1064\n",
      "6.0    1006\n",
      "2.0    1000\n",
      "0.0     989\n",
      "4.0     966\n",
      "8.0     948\n",
      "7.0     925\n",
      "5.0     906\n",
      "dtype: int64\n",
      "1    1135\n",
      "2    1032\n",
      "7    1028\n",
      "3    1010\n",
      "9    1009\n",
      "4     982\n",
      "0     980\n",
      "8     974\n",
      "6     958\n",
      "5     892\n",
      "dtype: int64\n"
     ]
    }
   ],
   "source": [
    "print(pd.Series(n_lab_test).value_counts())\n",
    "print(pd.Series(c_lab_test).value_counts())"
   ]
  },
  {
   "cell_type": "code",
   "execution_count": 88,
   "metadata": {},
   "outputs": [
    {
     "name": "stdout",
     "output_type": "stream",
     "text": [
      "1.0    6577\n",
      "9.0    6511\n",
      "3.0    6362\n",
      "6.0    6162\n",
      "0.0    6062\n",
      "8.0    5861\n",
      "7.0    5742\n",
      "2.0    5658\n",
      "4.0    5540\n",
      "5.0    5525\n",
      "dtype: int64\n",
      "1    6742\n",
      "7    6265\n",
      "3    6131\n",
      "2    5958\n",
      "9    5949\n",
      "0    5923\n",
      "6    5918\n",
      "8    5851\n",
      "4    5842\n",
      "5    5421\n",
      "dtype: int64\n"
     ]
    }
   ],
   "source": [
    "print(pd.Series(n_lab_train).value_counts())\n",
    "print(pd.Series(c_lab_train).value_counts())"
   ]
  },
  {
   "cell_type": "code",
   "execution_count": 93,
   "metadata": {
    "collapsed": true
   },
   "outputs": [],
   "source": [
    "import pickle\n",
    "mnist_obj = {\n",
    "    'train_img_clean':c_img_train,\n",
    "    'test_img_clean':c_img_test,\n",
    "    'train_lab_clean':c_lab_train,\n",
    "    'test_lab_clean':c_lab_test,\n",
    "    'train_img_noisy':n_img_train,\n",
    "    'test_img_noisy':n_img_test,\n",
    "    'train_img_noisy':n_img_train,\n",
    "    'test_img_noisy':n_img_test    \n",
    "}\n",
    "with open('mnist_noisy+clean.pickle', 'w+b') as fp:\n",
    "    pickle.dump(mnist_obj, fp)\n"
   ]
  },
  {
   "cell_type": "code",
   "execution_count": null,
   "metadata": {
    "collapsed": true
   },
   "outputs": [],
   "source": []
  }
 ],
 "metadata": {
  "kernelspec": {
   "display_name": "Python 2",
   "language": "python",
   "name": "python2"
  },
  "language_info": {
   "codemirror_mode": {
    "name": "ipython",
    "version": 2
   },
   "file_extension": ".py",
   "mimetype": "text/x-python",
   "name": "python",
   "nbconvert_exporter": "python",
   "pygments_lexer": "ipython2",
   "version": "2.7.14"
  }
 },
 "nbformat": 4,
 "nbformat_minor": 2
}
