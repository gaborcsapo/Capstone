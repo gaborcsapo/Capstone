{
 "cells": [
  {
   "cell_type": "code",
   "execution_count": 12,
   "metadata": {
    "collapsed": true
   },
   "outputs": [],
   "source": [
    "import pandas as pd\n",
    "features = pd.read_csv(\"./OF_Features/reps.csv\", header=None)\n",
    "labels = pd.read_csv(\"./OF_Features/labels.csv\", header=None, names=[\"drop\", \"id\"])\n",
    "race_table = pd.read_csv(\"./binned_id_gender_ethnicity.csv\")"
   ]
  },
  {
   "cell_type": "code",
   "execution_count": 13,
   "metadata": {},
   "outputs": [
    {
     "data": {
      "text/html": [
       "<div>\n",
       "<style>\n",
       "    .dataframe thead tr:only-child th {\n",
       "        text-align: right;\n",
       "    }\n",
       "\n",
       "    .dataframe thead th {\n",
       "        text-align: left;\n",
       "    }\n",
       "\n",
       "    .dataframe tbody tr th {\n",
       "        vertical-align: top;\n",
       "    }\n",
       "</style>\n",
       "<table border=\"1\" class=\"dataframe\">\n",
       "  <thead>\n",
       "    <tr style=\"text-align: right;\">\n",
       "      <th></th>\n",
       "      <th>0</th>\n",
       "      <th>1</th>\n",
       "      <th>2</th>\n",
       "      <th>3</th>\n",
       "      <th>4</th>\n",
       "      <th>5</th>\n",
       "      <th>6</th>\n",
       "      <th>7</th>\n",
       "      <th>8</th>\n",
       "      <th>9</th>\n",
       "      <th>...</th>\n",
       "      <th>118</th>\n",
       "      <th>119</th>\n",
       "      <th>120</th>\n",
       "      <th>121</th>\n",
       "      <th>122</th>\n",
       "      <th>123</th>\n",
       "      <th>124</th>\n",
       "      <th>125</th>\n",
       "      <th>126</th>\n",
       "      <th>127</th>\n",
       "    </tr>\n",
       "  </thead>\n",
       "  <tbody>\n",
       "    <tr>\n",
       "      <th>0</th>\n",
       "      <td>-0.015975</td>\n",
       "      <td>0.061343</td>\n",
       "      <td>-0.169915</td>\n",
       "      <td>0.075664</td>\n",
       "      <td>0.080860</td>\n",
       "      <td>0.174134</td>\n",
       "      <td>-0.017157</td>\n",
       "      <td>-0.105687</td>\n",
       "      <td>0.071876</td>\n",
       "      <td>-0.029301</td>\n",
       "      <td>...</td>\n",
       "      <td>0.145569</td>\n",
       "      <td>0.129029</td>\n",
       "      <td>0.089958</td>\n",
       "      <td>-0.133423</td>\n",
       "      <td>-0.031034</td>\n",
       "      <td>-0.003381</td>\n",
       "      <td>-0.000501</td>\n",
       "      <td>0.095188</td>\n",
       "      <td>0.052924</td>\n",
       "      <td>0.061916</td>\n",
       "    </tr>\n",
       "    <tr>\n",
       "      <th>1</th>\n",
       "      <td>-0.083042</td>\n",
       "      <td>0.155064</td>\n",
       "      <td>-0.026929</td>\n",
       "      <td>-0.128313</td>\n",
       "      <td>0.002890</td>\n",
       "      <td>0.146170</td>\n",
       "      <td>-0.043166</td>\n",
       "      <td>0.020272</td>\n",
       "      <td>-0.146851</td>\n",
       "      <td>0.085454</td>\n",
       "      <td>...</td>\n",
       "      <td>0.108734</td>\n",
       "      <td>0.085527</td>\n",
       "      <td>0.075933</td>\n",
       "      <td>-0.095799</td>\n",
       "      <td>-0.008750</td>\n",
       "      <td>-0.023784</td>\n",
       "      <td>0.015153</td>\n",
       "      <td>0.029661</td>\n",
       "      <td>-0.078988</td>\n",
       "      <td>-0.013881</td>\n",
       "    </tr>\n",
       "    <tr>\n",
       "      <th>2</th>\n",
       "      <td>0.013870</td>\n",
       "      <td>0.185305</td>\n",
       "      <td>0.010482</td>\n",
       "      <td>-0.127374</td>\n",
       "      <td>0.080616</td>\n",
       "      <td>0.020505</td>\n",
       "      <td>0.014181</td>\n",
       "      <td>-0.103239</td>\n",
       "      <td>0.003175</td>\n",
       "      <td>0.028015</td>\n",
       "      <td>...</td>\n",
       "      <td>-0.102061</td>\n",
       "      <td>0.045702</td>\n",
       "      <td>0.023531</td>\n",
       "      <td>0.004467</td>\n",
       "      <td>-0.016138</td>\n",
       "      <td>0.034176</td>\n",
       "      <td>0.030275</td>\n",
       "      <td>0.086337</td>\n",
       "      <td>0.009568</td>\n",
       "      <td>-0.062744</td>\n",
       "    </tr>\n",
       "    <tr>\n",
       "      <th>3</th>\n",
       "      <td>0.044587</td>\n",
       "      <td>-0.058128</td>\n",
       "      <td>-0.112380</td>\n",
       "      <td>-0.075394</td>\n",
       "      <td>0.134542</td>\n",
       "      <td>0.067473</td>\n",
       "      <td>-0.025369</td>\n",
       "      <td>-0.002917</td>\n",
       "      <td>-0.155703</td>\n",
       "      <td>-0.118631</td>\n",
       "      <td>...</td>\n",
       "      <td>-0.012169</td>\n",
       "      <td>0.195434</td>\n",
       "      <td>-0.107325</td>\n",
       "      <td>0.021370</td>\n",
       "      <td>0.006799</td>\n",
       "      <td>0.036422</td>\n",
       "      <td>-0.091522</td>\n",
       "      <td>0.028600</td>\n",
       "      <td>-0.079282</td>\n",
       "      <td>-0.081262</td>\n",
       "    </tr>\n",
       "    <tr>\n",
       "      <th>4</th>\n",
       "      <td>0.066164</td>\n",
       "      <td>0.137578</td>\n",
       "      <td>-0.023866</td>\n",
       "      <td>0.052424</td>\n",
       "      <td>-0.012129</td>\n",
       "      <td>0.139718</td>\n",
       "      <td>-0.043587</td>\n",
       "      <td>-0.064435</td>\n",
       "      <td>-0.147255</td>\n",
       "      <td>0.022006</td>\n",
       "      <td>...</td>\n",
       "      <td>0.173739</td>\n",
       "      <td>0.143175</td>\n",
       "      <td>0.043278</td>\n",
       "      <td>-0.179890</td>\n",
       "      <td>-0.000041</td>\n",
       "      <td>-0.062348</td>\n",
       "      <td>0.074416</td>\n",
       "      <td>0.071871</td>\n",
       "      <td>0.201533</td>\n",
       "      <td>0.078662</td>\n",
       "    </tr>\n",
       "  </tbody>\n",
       "</table>\n",
       "<p>5 rows × 128 columns</p>\n",
       "</div>"
      ],
      "text/plain": [
       "        0         1         2         3         4         5         6    \\\n",
       "0 -0.015975  0.061343 -0.169915  0.075664  0.080860  0.174134 -0.017157   \n",
       "1 -0.083042  0.155064 -0.026929 -0.128313  0.002890  0.146170 -0.043166   \n",
       "2  0.013870  0.185305  0.010482 -0.127374  0.080616  0.020505  0.014181   \n",
       "3  0.044587 -0.058128 -0.112380 -0.075394  0.134542  0.067473 -0.025369   \n",
       "4  0.066164  0.137578 -0.023866  0.052424 -0.012129  0.139718 -0.043587   \n",
       "\n",
       "        7         8         9      ...          118       119       120  \\\n",
       "0 -0.105687  0.071876 -0.029301    ...     0.145569  0.129029  0.089958   \n",
       "1  0.020272 -0.146851  0.085454    ...     0.108734  0.085527  0.075933   \n",
       "2 -0.103239  0.003175  0.028015    ...    -0.102061  0.045702  0.023531   \n",
       "3 -0.002917 -0.155703 -0.118631    ...    -0.012169  0.195434 -0.107325   \n",
       "4 -0.064435 -0.147255  0.022006    ...     0.173739  0.143175  0.043278   \n",
       "\n",
       "        121       122       123       124       125       126       127  \n",
       "0 -0.133423 -0.031034 -0.003381 -0.000501  0.095188  0.052924  0.061916  \n",
       "1 -0.095799 -0.008750 -0.023784  0.015153  0.029661 -0.078988 -0.013881  \n",
       "2  0.004467 -0.016138  0.034176  0.030275  0.086337  0.009568 -0.062744  \n",
       "3  0.021370  0.006799  0.036422 -0.091522  0.028600 -0.079282 -0.081262  \n",
       "4 -0.179890 -0.000041 -0.062348  0.074416  0.071871  0.201533  0.078662  \n",
       "\n",
       "[5 rows x 128 columns]"
      ]
     },
     "execution_count": 13,
     "metadata": {},
     "output_type": "execute_result"
    }
   ],
   "source": [
    "features.head()"
   ]
  },
  {
   "cell_type": "code",
   "execution_count": 14,
   "metadata": {},
   "outputs": [
    {
     "data": {
      "text/html": [
       "<div>\n",
       "<style>\n",
       "    .dataframe thead tr:only-child th {\n",
       "        text-align: right;\n",
       "    }\n",
       "\n",
       "    .dataframe thead th {\n",
       "        text-align: left;\n",
       "    }\n",
       "\n",
       "    .dataframe tbody tr th {\n",
       "        vertical-align: top;\n",
       "    }\n",
       "</style>\n",
       "<table border=\"1\" class=\"dataframe\">\n",
       "  <thead>\n",
       "    <tr style=\"text-align: right;\">\n",
       "      <th></th>\n",
       "      <th>drop</th>\n",
       "      <th>id</th>\n",
       "    </tr>\n",
       "  </thead>\n",
       "  <tbody>\n",
       "    <tr>\n",
       "      <th>0</th>\n",
       "      <td>1</td>\n",
       "      <td>../../shared-folder/aligned-container/aligned/...</td>\n",
       "    </tr>\n",
       "    <tr>\n",
       "      <th>1</th>\n",
       "      <td>1</td>\n",
       "      <td>../../shared-folder/aligned-container/aligned/...</td>\n",
       "    </tr>\n",
       "    <tr>\n",
       "      <th>2</th>\n",
       "      <td>1</td>\n",
       "      <td>../../shared-folder/aligned-container/aligned/...</td>\n",
       "    </tr>\n",
       "    <tr>\n",
       "      <th>3</th>\n",
       "      <td>1</td>\n",
       "      <td>../../shared-folder/aligned-container/aligned/...</td>\n",
       "    </tr>\n",
       "    <tr>\n",
       "      <th>4</th>\n",
       "      <td>1</td>\n",
       "      <td>../../shared-folder/aligned-container/aligned/...</td>\n",
       "    </tr>\n",
       "  </tbody>\n",
       "</table>\n",
       "</div>"
      ],
      "text/plain": [
       "   drop                                                 id\n",
       "0     1  ../../shared-folder/aligned-container/aligned/...\n",
       "1     1  ../../shared-folder/aligned-container/aligned/...\n",
       "2     1  ../../shared-folder/aligned-container/aligned/...\n",
       "3     1  ../../shared-folder/aligned-container/aligned/...\n",
       "4     1  ../../shared-folder/aligned-container/aligned/..."
      ]
     },
     "execution_count": 14,
     "metadata": {},
     "output_type": "execute_result"
    }
   ],
   "source": [
    "labels.head()"
   ]
  },
  {
   "cell_type": "code",
   "execution_count": 15,
   "metadata": {},
   "outputs": [
    {
     "data": {
      "text/html": [
       "<div>\n",
       "<style>\n",
       "    .dataframe thead tr:only-child th {\n",
       "        text-align: right;\n",
       "    }\n",
       "\n",
       "    .dataframe thead th {\n",
       "        text-align: left;\n",
       "    }\n",
       "\n",
       "    .dataframe tbody tr th {\n",
       "        vertical-align: top;\n",
       "    }\n",
       "</style>\n",
       "<table border=\"1\" class=\"dataframe\">\n",
       "  <thead>\n",
       "    <tr style=\"text-align: right;\">\n",
       "      <th></th>\n",
       "      <th>Unnamed: 0</th>\n",
       "      <th>id</th>\n",
       "      <th>gender</th>\n",
       "      <th>ethnicity</th>\n",
       "    </tr>\n",
       "  </thead>\n",
       "  <tbody>\n",
       "    <tr>\n",
       "      <th>0</th>\n",
       "      <td>0</td>\n",
       "      <td>3211298559</td>\n",
       "      <td>1</td>\n",
       "      <td>caucasian</td>\n",
       "    </tr>\n",
       "    <tr>\n",
       "      <th>1</th>\n",
       "      <td>1</td>\n",
       "      <td>82733984485</td>\n",
       "      <td>1</td>\n",
       "      <td>caucasian</td>\n",
       "    </tr>\n",
       "    <tr>\n",
       "      <th>2</th>\n",
       "      <td>2</td>\n",
       "      <td>99029428429</td>\n",
       "      <td>0</td>\n",
       "      <td>caucasian</td>\n",
       "    </tr>\n",
       "    <tr>\n",
       "      <th>3</th>\n",
       "      <td>3</td>\n",
       "      <td>71174220620</td>\n",
       "      <td>1</td>\n",
       "      <td>caucasian</td>\n",
       "    </tr>\n",
       "    <tr>\n",
       "      <th>4</th>\n",
       "      <td>4</td>\n",
       "      <td>47408331317</td>\n",
       "      <td>1</td>\n",
       "      <td>caucasian</td>\n",
       "    </tr>\n",
       "  </tbody>\n",
       "</table>\n",
       "</div>"
      ],
      "text/plain": [
       "   Unnamed: 0           id  gender  ethnicity\n",
       "0           0   3211298559       1  caucasian\n",
       "1           1  82733984485       1  caucasian\n",
       "2           2  99029428429       0  caucasian\n",
       "3           3  71174220620       1  caucasian\n",
       "4           4  47408331317       1  caucasian"
      ]
     },
     "execution_count": 15,
     "metadata": {},
     "output_type": "execute_result"
    }
   ],
   "source": [
    "race_table.head()"
   ]
  },
  {
   "cell_type": "code",
   "execution_count": null,
   "metadata": {},
   "outputs": [
    {
     "name": "stdout",
     "output_type": "stream",
     "text": [
      "dropping  61977 NaNs\n"
     ]
    },
    {
     "data": {
      "text/plain": [
       "caucasian     608738\n",
       "hispanic      213177\n",
       "southasian     66765\n",
       "eastasian      36009\n",
       "african         5282\n",
       "Name: ethnicity, dtype: int64"
      ]
     },
     "execution_count": 28,
     "metadata": {},
     "output_type": "execute_result"
    }
   ],
   "source": [
    "result = pd.concat([labels, features], axis=1)\n",
    "result[\"id\"] = result[\"id\"].apply(lambda x: x.split(\"/\")[-1][:-4]) \n",
    "result['id'] = result['id'].apply(pd.to_numeric)\n",
    "\n",
    "joined = pd.merge(race_table, result, how='right', on=\"id\")\n",
    "print(\"dropping \", joined[\"gender\"].isnull().sum(), \"NaNs\")\n",
    "joined =  joined.dropna()\n",
    "joined['ethnicity'].value_counts()"
   ]
  },
  {
   "cell_type": "markdown",
   "metadata": {},
   "source": [
    "## Dropping a lot of rows to create a uniform distribution"
   ]
  },
  {
   "cell_type": "code",
   "execution_count": null,
   "metadata": {
    "collapsed": true
   },
   "outputs": [],
   "source": [
    "cauc = joined[joined['ethnicity'] == 'caucasian'].sample(568738)\n",
    "hisp = joined[joined['ethnicity'] == 'hispanic'].sample(173177)\n",
    "east = joined[joined['ethnicity'] == 'eastasian'].sample(0)\n",
    "sout = joined[joined['ethnicity'] == 'southasian'].sample(26765)\n",
    "afri = joined[joined['ethnicity'] == 'african'].sample(5282)"
   ]
  },
  {
   "cell_type": "code",
   "execution_count": null,
   "metadata": {
    "collapsed": true
   },
   "outputs": [],
   "source": [
    "uniform = joined.drop(cauc.index, axis=0)\n",
    "uniform = uniform.drop(hisp.index, axis=0)\n",
    "uniform = uniform.drop(sout.index, axis=0)\n",
    "uniform = uniform.drop(east.index, axis=0)\n",
    "uniform = uniform.drop(afri.index, axis=0)\n",
    "uniform['ethnicity'].value_counts()"
   ]
  },
  {
   "cell_type": "code",
   "execution_count": null,
   "metadata": {
    "collapsed": true
   },
   "outputs": [],
   "source": [
    "uniform.to_csv('uniform_table.csv')"
   ]
  },
  {
   "cell_type": "code",
   "execution_count": 32,
   "metadata": {
    "collapsed": true
   },
   "outputs": [],
   "source": [
    "uniform = pd.read_csv('uniform_table.csv')"
   ]
  },
  {
   "cell_type": "code",
   "execution_count": 42,
   "metadata": {
    "collapsed": true
   },
   "outputs": [],
   "source": [
    "uniform = uniform.drop(['Unnamed: 0','Unnamed: 0.1', 'drop'], axis=1)\n",
    "uniform.to_csv('uniform_table.csv')"
   ]
  },
  {
   "cell_type": "code",
   "execution_count": null,
   "metadata": {
    "collapsed": true
   },
   "outputs": [],
   "source": []
  }
 ],
 "metadata": {
  "kernelspec": {
   "display_name": "Python 2",
   "language": "python",
   "name": "python2"
  },
  "language_info": {
   "codemirror_mode": {
    "name": "ipython",
    "version": 2
   },
   "file_extension": ".py",
   "mimetype": "text/x-python",
   "name": "python",
   "nbconvert_exporter": "python",
   "pygments_lexer": "ipython2",
   "version": "2.7.14"
  }
 },
 "nbformat": 4,
 "nbformat_minor": 2
}
