{
 "cells": [
  {
   "cell_type": "code",
   "execution_count": 19,
   "metadata": {},
   "outputs": [],
   "source": [
    "from PIL import Image\n",
    "from os import listdir\n",
    "from os.path import isfile, join\n",
    "import random\n",
    "\n",
    "files = [ join('/home/gc1569/Capstone/Cropped_Images/', f) for f in listdir('/home/gc1569/Capstone/Cropped_Images/') if isfile(join('/home/gc1569/Capstone/Cropped_Images/', f)) ]\n",
    "random.shuffle(files)\n",
    "new_im = Image.new('RGB', (2000,2000))\n",
    "index = 0\n",
    "for i in range(0,2000,200):\n",
    "    for j in range(0,2000,200):\n",
    "        image = Image.open(files[index])\n",
    "        width  = image.size[0]\n",
    "        height = image.size[1]\n",
    "\n",
    "        aspect = width / float(height)\n",
    "\n",
    "        ideal_width = 200\n",
    "        ideal_height = 200\n",
    "\n",
    "        ideal_aspect = ideal_width / float(ideal_height)\n",
    "\n",
    "        if aspect > ideal_aspect:\n",
    "            # Then crop the left and right edges:\n",
    "            new_width = int(ideal_aspect * height)\n",
    "            offset = (width - new_width) / 2\n",
    "            resize = (offset, 0, width - offset, height)\n",
    "        else:\n",
    "            # ... crop the top and bottom:\n",
    "            new_height = int(width / ideal_aspect)\n",
    "            offset = (height - new_height) / 2\n",
    "            resize = (0, offset, width, height - offset)\n",
    "\n",
    "        thumb = image.crop(resize).resize((ideal_width, ideal_height), Image.ANTIALIAS)\n",
    "        new_im.paste(thumb, (i,j))\n",
    "        index += 1\n",
    "\n",
    "new_im.save(\"hola.png\")"
   ]
  }
 ],
 "metadata": {
  "kernelspec": {
   "display_name": "Python 3",
   "language": "python",
   "name": "python3"
  },
  "language_info": {
   "codemirror_mode": {
    "name": "ipython",
    "version": 3
   },
   "file_extension": ".py",
   "mimetype": "text/x-python",
   "name": "python",
   "nbconvert_exporter": "python",
   "pygments_lexer": "ipython3",
   "version": "3.6.2"
  }
 },
 "nbformat": 4,
 "nbformat_minor": 2
}
