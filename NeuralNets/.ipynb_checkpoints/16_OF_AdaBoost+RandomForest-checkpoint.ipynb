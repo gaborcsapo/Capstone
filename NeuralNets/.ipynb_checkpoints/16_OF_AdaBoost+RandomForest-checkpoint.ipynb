{
 "cells": [
  {
   "cell_type": "code",
   "execution_count": 10,
   "metadata": {
    "scrolled": false
   },
   "outputs": [
    {
     "name": "stdout",
     "output_type": "stream",
     "text": [
      "===== IMPORTING ||| SCRIPT STARTS ||| LOGGING PURPOSE ======\n"
     ]
    }
   ],
   "source": [
    "from __future__ import print_function\n",
    "\n",
    "import double_log\n",
    "def print(*args, **kwargs):\n",
    "    return double_log.print(*args, **kwargs)\n",
    "\n",
    "import keras\n",
    "import pickle\n",
    "import operator\n",
    "import numpy as np\n",
    "import pandas as pd\n",
    "import plot_conf_matrix as pcm\n",
    "from keras import backend as K\n",
    "from sklearn.ensemble import AdaBoostClassifier\n",
    "from sklearn.metrics import accuracy_score\n",
    "from sklearn.tree import DecisionTreeClassifier\n",
    "from sklearn.ensemble import RandomForestClassifier\n",
    "from sklearn.preprocessing import LabelBinarizer\n",
    "from sklearn.metrics import confusion_matrix, f1_score\n",
    "from sklearn.model_selection import StratifiedKFold, train_test_split\n",
    "\n",
    "print(\"===== IMPORTING ||| SCRIPT STARTS ||| LOGGING PURPOSE ======\")"
   ]
  },
  {
   "cell_type": "markdown",
   "metadata": {},
   "source": [
    "## Loading Data, Splitting, and Correct Fromating\n",
    "As my noisy dataset, I use MNIST but I flipped the labels with 50% probability to something else with a random distribution. As my ground truth, I use the clean MNIST. You can see the noise distribution in the confusion matrix below."
   ]
  },
  {
   "cell_type": "code",
   "execution_count": 2,
   "metadata": {
    "scrolled": true
   },
   "outputs": [
    {
     "data": {
      "text/plain": [
       "caucasian     5150\n",
       "eastasian     1549\n",
       "southasian     465\n",
       "hispanic       447\n",
       "Name: race, dtype: int64"
      ]
     },
     "execution_count": 2,
     "metadata": {},
     "output_type": "execute_result"
    }
   ],
   "source": [
    "train = pd.read_csv('../Data/uniform_table.csv')\n",
    "test = pd.read_csv('../Data/feret_table.csv')\n",
    "test = test[test['race'] != \"other\"]\n",
    "test = test[test['race'] != \"african\"]\n",
    "test['race'].value_counts()"
   ]
  },
  {
   "cell_type": "code",
   "execution_count": null,
   "metadata": {},
   "outputs": [],
   "source": [
    "batch_size = 128\n",
    "num_classes = 4\n",
    "epochs = 60\n",
    "input_shape = (128,)\n",
    "\n",
    "x_train = train.loc[:,'0':'127'].as_matrix()\n",
    "x_test = test.loc[:,'0':'127'].as_matrix()\n",
    "y_train = train.loc[:,'ethnicity'].as_matrix()\n",
    "y_test = test.loc[:,'race'].as_matrix()\n",
    "\n",
    "x_train = x_train.astype('float32')\n",
    "x_test = x_test.astype('float32')\n",
    "x_train = keras.utils.normalize(x_train)\n",
    "x_test = keras.utils.normalize(x_test)\n",
    "   \n",
    "# 10-fold cross validation\n",
    "folds = list(StratifiedKFold(n_splits=10, shuffle=True, random_state=1).split(x_train, y_train))\n",
    "\n",
    "print(x_train.shape, y_train.shape, 'train shape')\n",
    "print(x_test.shape, y_test.shape,'test shape')\n",
    "\n",
    "# convert class vectors to binary class matrices\n",
    "y_test_clean = y_testencoder = LabelBinarizer()\n",
    "# y_train = encoder.fit_transform(y_train)\n",
    "# y_\n",
    "# test = encoder.transform(y_test)\n",
    "\n",
    "#if need to figure out relation for the confusion matrix, use inverse_transform\n",
    "cm = np.asarray([[0.82, 0.03, 0.06, 0.03],[0.02,0.95,0.03,0],[0.03,0.02,0.9,0.01],[0.04,0,0,0.91]])"
   ]
  },
  {
   "cell_type": "markdown",
   "metadata": {},
   "source": [
    "# AdaBoost"
   ]
  },
  {
   "cell_type": "code",
   "execution_count": 28,
   "metadata": {},
   "outputs": [
    {
     "name": "stdout",
     "output_type": "stream",
     "text": [
      "f1 on real:  0.689396925502562\n",
      "f1 on discrete:  0.689396925502562\n"
     ]
    }
   ],
   "source": [
    "bdt_real = AdaBoostClassifier(\n",
    "    DecisionTreeClassifier(max_depth=2),\n",
    "    n_estimators=40,\n",
    "    learning_rate=1)\n",
    "\n",
    "bdt_discrete = AdaBoostClassifier(\n",
    "    DecisionTreeClassifier(max_depth=2),\n",
    "    n_estimators=6,\n",
    "    learning_rate=1.5,\n",
    "    algorithm=\"SAMME\")\n",
    "\n",
    "bdt_real.fit(x_train, y_train)\n",
    "pred  = bdt_real.predict(x_test)\n",
    "f1 = f1_score(pred,y_test, average='micro')\n",
    "print(\"f1 on real: \", f1)        \n",
    "\n",
    "bdt_discrete.fit(x_train, y_train)\n",
    "pred2 = bdt_discrete.predict(x_test)\n",
    "f2 = f1_score(pred,y_test, average='micro')\n",
    "print(\"f1 on discrete: \", f2)        \n"
   ]
  },
  {
   "cell_type": "markdown",
   "metadata": {},
   "source": [
    "## Score for Noise model and the final weight matrix it learnt. NORMALIZED"
   ]
  },
  {
   "cell_type": "code",
   "execution_count": 16,
   "metadata": {
    "scrolled": false
   },
   "outputs": [
    {
     "name": "stdout",
     "output_type": "stream",
     "text": [
      "==== AB 1 =====\n"
     ]
    },
    {
     "data": {
      "image/png": "[encoded data removed]",
      "text/plain": [
       "<Figure size 432x288 with 2 Axes>"
      ]
     },
     "metadata": {},
     "output_type": "display_data"
    },
    {
     "name": "stdout",
     "output_type": "stream",
     "text": [
      "==== AB 2 =====\n"
     ]
    },
    {
     "data": {
      "image/png": "[encoded data removed]",
      "text/plain": [
       "<Figure size 432x288 with 2 Axes>"
      ]
     },
     "metadata": {},
     "output_type": "display_data"
    }
   ],
   "source": [
    "print(\"==== AB 1 =====\")\n",
    "pcm.plot_confusion_matrix(true_class=[max(enumerate(i), key=operator.itemgetter(1))[0] for i in y_test.tolist()], pred_class=[max(enumerate(i), key=operator.itemgetter(1))[0] for i in pred.tolist()], normalize=True)\n",
    "\n",
    "print(\"==== AB 2 =====\")\n",
    "pcm.plot_confusion_matrix(true_class=[max(enumerate(i), key=operator.itemgetter(1))[0] for i in y_test.tolist()], pred_class=[max(enumerate(i), key=operator.itemgetter(1))[0] for i in pred2.tolist()], normalize=True)"
   ]
  },
  {
   "cell_type": "markdown",
   "metadata": {},
   "source": [
    "# Random Forest"
   ]
  },
  {
   "cell_type": "code",
   "execution_count": null,
   "metadata": {},
   "outputs": [
    {
     "name": "stdout",
     "output_type": "stream",
     "text": [
      "f1 validation on random forest:  0.5679123133132491\n",
      "f1 on random forest:  0.6967546971488635\n",
      "==== RF 1 =====\n"
     ]
    },
    {
     "data": {
      "image/png": "[encoded data removed]",
      "text/plain": [
       "<Figure size 432x288 with 2 Axes>"
      ]
     },
     "metadata": {},
     "output_type": "display_data"
    }
   ],
   "source": [
    "for j, (train_idx, val_idx) in enumerate(folds[0:2]):\n",
    "    x_train_cv = x_train[train_idx]\n",
    "    y_train_cv = y_train[train_idx]\n",
    "    x_valid_cv = x_train[val_idx]\n",
    "    y_valid_cv= y_train[val_idx]\n",
    "\n",
    "    clf = RandomForestClassifier(n_estimators=100 , random_state=0)\n",
    "    clf.fit(x_train_cv, y_train_cv)\n",
    "    pred3  = clf.predict(x_valid_cv)\n",
    "    f1 = f1_score(pred3, y_valid_cv, average='micro')\n",
    "    print(\"f1 validation on random forest: \", f1) \n",
    "    pred3  = clf.predict(x_test)\n",
    "    f1 = f1_score(pred3, y_test, average='micro')\n",
    "    print(\"f1 on random forest: \", f1)  \n",
    "    print(\"==== RF 1 =====\")\n",
    "    pcm.plot_confusion_matrix(true_class=[max(enumerate(i), key=operator.itemgetter(1))[0] for i in y_test.tolist()], pred_class=[max(enumerate(i), key=operator.itemgetter(1))[0] for i in pred3.tolist()], normalize=False)\n"
   ]
  },
  {
   "cell_type": "code",
   "execution_count": 20,
   "metadata": {},
   "outputs": [
    {
     "data": {
      "text/plain": [
       "caucasian     3869\n",
       "southasian    1505\n",
       "eastasian     1503\n",
       "hispanic       734\n",
       "dtype: int64"
      ]
     },
     "execution_count": 20,
     "metadata": {},
     "output_type": "execute_result"
    }
   ],
   "source": [
    "pd.Series(pred3).value_counts()"
   ]
  },
  {
   "cell_type": "code",
   "execution_count": 24,
   "metadata": {},
   "outputs": [
    {
     "data": {
      "text/plain": [
       "0.6981999737222441"
      ]
     },
     "execution_count": 24,
     "metadata": {},
     "output_type": "execute_result"
    }
   ],
   "source": [
    "f1_score(pred3,y_test, average='micro')"
   ]
  },
  {
   "cell_type": "code",
   "execution_count": null,
   "metadata": {},
   "outputs": [],
   "source": []
  }
 ],
 "metadata": {
  "kernelspec": {
   "display_name": "Python 2",
   "language": "python",
   "name": "python2"
  },
  "language_info": {
   "codemirror_mode": {
    "name": "ipython",
    "version": 2
   },
   "file_extension": ".py",
   "mimetype": "text/x-python",
   "name": "python",
   "nbconvert_exporter": "python",
   "pygments_lexer": "ipython2",
   "version": "2.7.14"
  }
 },
 "nbformat": 4,
 "nbformat_minor": 2
}
