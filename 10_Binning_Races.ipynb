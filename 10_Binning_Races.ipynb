{
 "cells": [
  {
   "cell_type": "code",
   "execution_count": null,
   "metadata": {
    "collapsed": true
   },
   "outputs": [],
   "source": [
    "import pandas as pd\n",
    "import numpy as np\n",
    "import os"
   ]
  },
  {
   "cell_type": "code",
   "execution_count": null,
   "metadata": {
    "collapsed": true
   },
   "outputs": [],
   "source": [
    "ethn_df = pd.read_csv(\"../Images/GenderEthnicityResources/binned_id_gender_ethnicity.csv\")\n",
    "ethn_df.head()"
   ]
  },
  {
   "cell_type": "code",
   "execution_count": null,
   "metadata": {
    "collapsed": true
   },
   "outputs": [],
   "source": [
    "ethn_df['id'] = ethn_df['id'].apply(pd.to_numeric)\n",
    "ethn_df.dtypes"
   ]
  },
  {
   "cell_type": "code",
   "execution_count": null,
   "metadata": {
    "collapsed": true
   },
   "outputs": [],
   "source": [
    "ethn_df['ethnicity'].unique()"
   ]
  },
  {
   "cell_type": "code",
   "execution_count": null,
   "metadata": {
    "collapsed": true
   },
   "outputs": [],
   "source": [
    "dict = {\n",
    "    'french':'caucasian', \n",
    "    'czech':'caucasian', \n",
    "    'swedish':'caucasian', \n",
    "    'danish':'caucasian', \n",
    "    'indian':'southasian', \n",
    "    'jewish':'caucasian',\n",
    "    'russian':'caucasian', \n",
    "    'spanish':'hispanic', \n",
    "    'irish':'caucasian', \n",
    "    'swiss':'caucasian', \n",
    "    'muslim':'southasian', \n",
    "    'italian':'caucasian',\n",
    "    'german':'caucasian', \n",
    "    'chinese':'eastasian', \n",
    "    'japanese':'eastasian', \n",
    "    'portugese':'caucasian', \n",
    "    'slavic':'caucasian', \n",
    "    'greek':'caucasian',\n",
    "    'korean':'eastasian', \n",
    "    'african':'african', \n",
    "    'ukranian':'caucasian', \n",
    "    'arabic':'southasian', \n",
    "    'vietnamese':'eastasian'\n",
    "}\n",
    "for i in list(dict):\n",
    "    ethn_df.replace(i, dict[i], inplace= True)"
   ]
  },
  {
   "cell_type": "code",
   "execution_count": null,
   "metadata": {
    "collapsed": true
   },
   "outputs": [],
   "source": [
    "ethn_df['ethnicity'].value_counts()\n"
   ]
  },
  {
   "cell_type": "code",
   "execution_count": null,
   "metadata": {
    "collapsed": true
   },
   "outputs": [],
   "source": [
    "ethn_df.to_csv(\"../Images/GenderEthnicityResources/binned_id_gender_ethnicity.csv\")"
   ]
  }
 ],
 "metadata": {
  "kernelspec": {
   "display_name": "Python 3",
   "language": "python",
   "name": "python3"
  },
  "language_info": {
   "codemirror_mode": {
    "name": "ipython",
    "version": 3
   },
   "file_extension": ".py",
   "mimetype": "text/x-python",
   "name": "python",
   "nbconvert_exporter": "python",
   "pygments_lexer": "ipython3",
   "version": "3.6.2"
  }
 },
 "nbformat": 4,
 "nbformat_minor": 2
}
