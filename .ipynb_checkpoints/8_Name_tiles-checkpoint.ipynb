{
 "cells": [
  {
   "cell_type": "code",
   "execution_count": 1,
   "metadata": {
    "collapsed": true
   },
   "outputs": [],
   "source": [
    "import pandas as pd\n",
    "import numpy as np\n",
    "import os"
   ]
  },
  {
   "cell_type": "code",
   "execution_count": 2,
   "metadata": {
    "scrolled": true
   },
   "outputs": [
    {
     "data": {
      "text/html": [
       "<div>\n",
       "<style>\n",
       "    .dataframe thead tr:only-child th {\n",
       "        text-align: right;\n",
       "    }\n",
       "\n",
       "    .dataframe thead th {\n",
       "        text-align: left;\n",
       "    }\n",
       "\n",
       "    .dataframe tbody tr th {\n",
       "        vertical-align: top;\n",
       "    }\n",
       "</style>\n",
       "<table border=\"1\" class=\"dataframe\">\n",
       "  <thead>\n",
       "    <tr style=\"text-align: right;\">\n",
       "      <th></th>\n",
       "      <th>Unnamed: 0</th>\n",
       "      <th>id</th>\n",
       "      <th>gender</th>\n",
       "      <th>ethnicity</th>\n",
       "    </tr>\n",
       "  </thead>\n",
       "  <tbody>\n",
       "    <tr>\n",
       "      <th>0</th>\n",
       "      <td>0</td>\n",
       "      <td>3211298559</td>\n",
       "      <td>1</td>\n",
       "      <td>caucasian</td>\n",
       "    </tr>\n",
       "    <tr>\n",
       "      <th>1</th>\n",
       "      <td>1</td>\n",
       "      <td>82733984485</td>\n",
       "      <td>1</td>\n",
       "      <td>caucasian</td>\n",
       "    </tr>\n",
       "    <tr>\n",
       "      <th>2</th>\n",
       "      <td>2</td>\n",
       "      <td>99029428429</td>\n",
       "      <td>0</td>\n",
       "      <td>caucasian</td>\n",
       "    </tr>\n",
       "    <tr>\n",
       "      <th>3</th>\n",
       "      <td>3</td>\n",
       "      <td>71174220620</td>\n",
       "      <td>1</td>\n",
       "      <td>caucasian</td>\n",
       "    </tr>\n",
       "    <tr>\n",
       "      <th>4</th>\n",
       "      <td>4</td>\n",
       "      <td>47408331317</td>\n",
       "      <td>1</td>\n",
       "      <td>caucasian</td>\n",
       "    </tr>\n",
       "  </tbody>\n",
       "</table>\n",
       "</div>"
      ],
      "text/plain": [
       "   Unnamed: 0           id  gender  ethnicity\n",
       "0           0   3211298559       1  caucasian\n",
       "1           1  82733984485       1  caucasian\n",
       "2           2  99029428429       0  caucasian\n",
       "3           3  71174220620       1  caucasian\n",
       "4           4  47408331317       1  caucasian"
      ]
     },
     "execution_count": 2,
     "metadata": {},
     "output_type": "execute_result"
    }
   ],
   "source": [
    "ethn_df = pd.read_csv(\"../Images/GenderEthnicityResources/binned_id_gender_ethnicity.csv\")\n",
    "ethn_df.head()"
   ]
  },
  {
   "cell_type": "code",
   "execution_count": 3,
   "metadata": {},
   "outputs": [
    {
     "data": {
      "text/plain": [
       "Unnamed: 0     int64\n",
       "id             int64\n",
       "gender         int64\n",
       "ethnicity     object\n",
       "dtype: object"
      ]
     },
     "execution_count": 3,
     "metadata": {},
     "output_type": "execute_result"
    }
   ],
   "source": [
    "ethn_df['id'] = ethn_df['id'].apply(pd.to_numeric)\n",
    "ethn_df.dtypes"
   ]
  },
  {
   "cell_type": "code",
   "execution_count": 4,
   "metadata": {
    "scrolled": true
   },
   "outputs": [
    {
     "name": "stdout",
     "output_type": "stream",
     "text": [
      "id    int64\n",
      "dtype: object\n",
      "False    30856631\n",
      "True      1426142\n",
      "Name: id, dtype: int64\n"
     ]
    }
   ],
   "source": [
    "source = '../Images/GenderEthnicityResources/photos/'\n",
    "numPics = pd.DataFrame([int(f[:-5]) for f in os.listdir(source) if f.endswith('.jpg')], columns=[\"id\"])\n",
    "print(numPics.dtypes)\n",
    "\n",
    "\n",
    "print(ethn_df['id'].isin(numPics['id']).value_counts())\n",
    "joined = pd.merge(numPics, ethn_df, how='inner', on=\"id\")"
   ]
  },
  {
   "cell_type": "code",
   "execution_count": 5,
   "metadata": {
    "scrolled": true
   },
   "outputs": [
    {
     "name": "stdout",
     "output_type": "stream",
     "text": [
      "hispanic (326346, 4)\n",
      "eastasian (61716, 4)\n",
      "caucasian (920223, 4)\n",
      "southasian (109197, 4)\n",
      "african (8660, 4)\n"
     ]
    }
   ],
   "source": [
    "samples = {}\n",
    "for ethnicity in joined['ethnicity'].unique():\n",
    "    temp = joined[joined['ethnicity']==ethnicity]\n",
    "    print(ethnicity, temp.shape)\n",
    "    samples[ethnicity] = list(temp.sample(200)['id'])"
   ]
  },
  {
   "cell_type": "code",
   "execution_count": 6,
   "metadata": {
    "scrolled": true
   },
   "outputs": [
    {
     "ename": "NameError",
     "evalue": "name 'n_images' is not defined",
     "output_type": "error",
     "traceback": [
      "\u001b[0;31m---------------------------------------------------------------------------\u001b[0m",
      "\u001b[0;31mNameError\u001b[0m                                 Traceback (most recent call last)",
      "\u001b[0;32m<ipython-input-6-6f42371cce3b>\u001b[0m in \u001b[0;36m<module>\u001b[0;34m()\u001b[0m\n\u001b[1;32m     52\u001b[0m \u001b[0;32mfor\u001b[0m \u001b[0mn\u001b[0m\u001b[0;34m,\u001b[0m \u001b[0;34m(\u001b[0m\u001b[0mimage\u001b[0m\u001b[0;34m,\u001b[0m \u001b[0mtitle\u001b[0m\u001b[0;34m)\u001b[0m \u001b[0;32min\u001b[0m \u001b[0menumerate\u001b[0m\u001b[0;34m(\u001b[0m\u001b[0mzip\u001b[0m\u001b[0;34m(\u001b[0m\u001b[0mimages\u001b[0m\u001b[0;34m,\u001b[0m \u001b[0mtitles\u001b[0m\u001b[0;34m)\u001b[0m\u001b[0;34m)\u001b[0m\u001b[0;34m:\u001b[0m\u001b[0;34m\u001b[0m\u001b[0m\n\u001b[1;32m     53\u001b[0m     \u001b[0mfig\u001b[0m \u001b[0;34m=\u001b[0m \u001b[0mplt\u001b[0m\u001b[0;34m.\u001b[0m\u001b[0mfigure\u001b[0m\u001b[0;34m(\u001b[0m\u001b[0;34m)\u001b[0m\u001b[0;34m\u001b[0m\u001b[0m\n\u001b[0;32m---> 54\u001b[0;31m     \u001b[0ma\u001b[0m \u001b[0;34m=\u001b[0m \u001b[0mfig\u001b[0m\u001b[0;34m.\u001b[0m\u001b[0madd_subplot\u001b[0m\u001b[0;34m(\u001b[0m\u001b[0mcols\u001b[0m\u001b[0;34m,\u001b[0m \u001b[0mnp\u001b[0m\u001b[0;34m.\u001b[0m\u001b[0mceil\u001b[0m\u001b[0;34m(\u001b[0m\u001b[0mn_images\u001b[0m\u001b[0;34m)\u001b[0m\u001b[0;34m,\u001b[0m \u001b[0;36m1\u001b[0m\u001b[0;34m)\u001b[0m\u001b[0;34m\u001b[0m\u001b[0m\n\u001b[0m\u001b[1;32m     55\u001b[0m     \u001b[0mplt\u001b[0m\u001b[0;34m.\u001b[0m\u001b[0mimshow\u001b[0m\u001b[0;34m(\u001b[0m\u001b[0mimage\u001b[0m\u001b[0;34m)\u001b[0m\u001b[0;34m\u001b[0m\u001b[0m\n\u001b[1;32m     56\u001b[0m     \u001b[0mplt\u001b[0m\u001b[0;34m.\u001b[0m\u001b[0mimsave\u001b[0m\u001b[0;34m(\u001b[0m\u001b[0mtitle\u001b[0m\u001b[0;34m+\u001b[0m\u001b[0;34m\"-non_preproc.jpg\"\u001b[0m\u001b[0;34m)\u001b[0m\u001b[0;34m\u001b[0m\u001b[0m\n",
      "\u001b[0;31mNameError\u001b[0m: name 'n_images' is not defined"
     ]
    }
   ],
   "source": [
    "from PIL import Image\n",
    "import matplotlib.pyplot as plt\n",
    "from time import sleep\n",
    "\n",
    "def calc_tile(files):\n",
    "    new_im = Image.new('RGB', (1000,1000), (100,100,100))\n",
    "    index = 0\n",
    "    for i in range(0,1000,100):\n",
    "        j = 0\n",
    "        while (j < 1000):\n",
    "            try:\n",
    "                image = Image.open(files[index])                \n",
    "            except Exception as e:\n",
    "                index += 1\n",
    "                continue\n",
    "            width  = image.size[0]\n",
    "            height = image.size[1]\n",
    "\n",
    "            aspect = width / float(height)\n",
    "\n",
    "            ideal_width = 100\n",
    "            ideal_height = 100\n",
    "\n",
    "            ideal_aspect = ideal_width / float(ideal_height)\n",
    "\n",
    "            if aspect > ideal_aspect:\n",
    "                # Then crop the left and right edges:\n",
    "                new_width = int(ideal_aspect * height)\n",
    "                offset = (width - new_width) / 2\n",
    "                resize = (offset, 0, width - offset, height)\n",
    "            else:\n",
    "                # ... crop the top and bottom:\n",
    "                new_height = int(width / ideal_aspect)\n",
    "                offset = (height - new_height) / 2\n",
    "                resize = (0, offset, width, height - offset)\n",
    "\n",
    "            thumb = image.crop(resize).resize((ideal_width, ideal_height), Image.ANTIALIAS)\n",
    "            new_im.paste(thumb, (i,j))\n",
    "            index += 1\n",
    "            j += 100\n",
    "    return new_im\n",
    "\n",
    "images = []\n",
    "cols = 2\n",
    "titles = list(samples)\n",
    "for i in titles:\n",
    "    vis = []\n",
    "    for pic in samples[i]:\n",
    "        vis.append(\"../Images/GenderEthnicityResources/photos/\"+str(pic)+\"..jpg\")\n",
    "    images.append(calc_tile(vis))    \n",
    "\n",
    "for n, (image, title) in enumerate(zip(images, titles)):\n",
    "    fig = plt.figure()\n",
    "    a = fig.add_subplot(cols, np.ceil(n_images), 1)\n",
    "    plt.imshow(image)\n",
    "    plt.imsave(title+\"-non_preproc.jpg\")\n",
    "    a.set_title(title)\n",
    "    plt.axis('off')\n",
    "    fig.set_size_inches(np.array(fig.get_size_inches()) * 8)\n",
    "    plt.show()\n",
    "    sleep(2)\n"
   ]
  }
 ],
 "metadata": {
  "kernelspec": {
   "display_name": "Python 3",
   "language": "python",
   "name": "python3"
  },
  "language_info": {
   "codemirror_mode": {
    "name": "ipython",
    "version": 3
   },
   "file_extension": ".py",
   "mimetype": "text/x-python",
   "name": "python",
   "nbconvert_exporter": "python",
   "pygments_lexer": "ipython3",
   "version": "3.6.2"
  }
 },
 "nbformat": 4,
 "nbformat_minor": 2
}
